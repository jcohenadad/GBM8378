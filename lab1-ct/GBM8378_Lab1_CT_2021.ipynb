{
 "cells": [
  {
   "cell_type": "markdown",
   "metadata": {},
   "source": [
    "<div align=\"center\"> \n",
    "    \n",
    "# GBM8378 - Principes d'imagerie biomédicale - Hiver 2021\n",
    "## Laboratoire 1 - Computed Tomography (Tomodensitométrie)\n",
    "<br>\n",
    "    \n",
    "**Prénom1 Nom1 - Matricule1**  \n",
    "**Prénom2 Nom2 - Matricule2**\n",
    "    \n",
    "</div> "
   ]
  },
  {
   "cell_type": "markdown",
   "metadata": {},
   "source": [
    "<div align=\"center\" class=\"alert alert-block alert-danger\">\n",
    "    <b>Assurez vous d'avoir indiqué vos noms et matricules dans la cellule précédente.</b>\n",
    "</div>"
   ]
  },
  {
   "cell_type": "markdown",
   "metadata": {},
   "source": [
    "<div class=\"alert alert-block alert-danger\">\n",
    "<b>\n",
    "Avant de commencer à répondre au différentes questions, veuillez vérifier que le Jupyter Notebook fonctionne correctement:\n",
    "    <br>\n",
    "    <br>\n",
    "    1. Redémarrez le noyau (dans la barre de menu : \"Kernel\" $\\rightarrow$ \"Restart\")\n",
    "    <br>\n",
    "    2. Lancez toutes les cellules (dans la barre de menu :  \"Cell\" $\\rightarrow$ \"Run All\").\n",
    "</b>\n",
    "</div>"
   ]
  },
  {
   "cell_type": "markdown",
   "metadata": {},
   "source": [
    "# <font color='coral'> Travail à effectuer </font>\n",
    "\n",
    "<div class=\"alert alert-block alert-info\">\n",
    "<b>Les fonctions fournies dans le ﬁchier `labCTfonction.py` vous seront utiles.\n",
    "<br><br>\n",
    "    \n",
    "Le PDF contenant la partie théorique du TP est disponible sur Moodle.\n",
    "<br><br>\n",
    "    \n",
    "Avant de remettre votre travail, assurez-vous d'avoir rempli toutes les sections `>>>>> Commencez votre code ici <<<<<` et `Double-cliquez pour entrez votre réponse`.</b>\n",
    "</div>"
   ]
  },
  {
   "cell_type": "markdown",
   "metadata": {},
   "source": [
    "# Introduction"
   ]
  },
  {
   "attachments": {
    "image.png": {
     "image/png": "[encoded data removed]"
    }
   },
   "cell_type": "markdown",
   "metadata": {},
   "source": [
    "## <font color='teal'> Questions préliminaires – 5pts </font>\n",
    "\n",
    "<div class=\"alert alert-warning\">\n",
    "<b>\n",
    "1. Quel est l’unité de μ, le coefficient d’atténuation des rayons X? <br><br>\n",
    "2. L’équation (1) de la partie théorique fait l’hypothèse d’une source de photons monochromatique. Peut-on considérer que chaque photon conserve la même énergie tout au long de sa propagation dans l’objet?<br><br>\n",
    "3. En pratique les sources à rayons X ne sont pas monochromatiques. Pourquoi ?<br><br>\n",
    "4. On considère ici que les rayons X se propagent en ligne droite dans l’objet à imager. Comment peut-on rendre l’effet Compton négligeable pour que cette hypothèse soit vraie ?<br><br>\n",
    "5. À partir de la figure 4, décrivez qualitativement à quoi ressemblerait F(u,v) dans le cas suivant :\n",
    "\n",
    "![image.png](attachment:image.png)\n",
    "</b>\n",
    "</div>\n"
   ]
  },
  {
   "cell_type": "markdown",
   "metadata": {},
   "source": [
    "<div class=\"alert alert-block alert-success\"> <b> Double-cliquez pour entrez votre réponse <b> </div>"
   ]
  },
  {
   "cell_type": "markdown",
   "metadata": {},
   "source": [
    "## <font color='teal'> Projection et rétroprojection – 2pts </font>\n",
    "\n",
    "<div class=\"alert alert-block alert-info\">\n",
    "    <b>Effectuer la projection et la rétroprojection d’une image fantôme.</b> <br>\n",
    "Charger le fichier \"sinogramme\". Celui-ci a été réalisé à partir de 180 projections acquises pour θ = [0 179]°.\n",
    "</div>"
   ]
  },
  {
   "cell_type": "code",
   "execution_count": null,
   "metadata": {
    "scrolled": false
   },
   "outputs": [],
   "source": [
    "# Dans cette cellule, nous importons les librairies/fonctions qui nous serviront dans ce notebook.\n",
    "# N'hésitez pas à importer d'autres fonctions si besoin (pensez à relancer la cellule à chaque ajout).\n",
    "import numpy as np\n",
    "import matplotlib.pyplot as plt\n",
    "import labCTfunctions as labCT\n",
    "from scipy.ndimage import convolve\n",
    "from scipy.ndimage.interpolation import rotate\n",
    "from numpy.fft import fft, fft2, fftshift, ifft, ifftshift\n",
    "from skimage.transform import radon, iradon\n",
    "\n",
    "%matplotlib inline"
   ]
  },
  {
   "cell_type": "code",
   "execution_count": null,
   "metadata": {
    "scrolled": true
   },
   "outputs": [],
   "source": [
    "# Ceci est un cellule de code Python. Pour éxecuter le code contenu dans la cellule, appuyez sur le bouton \"éxécuter\" dans la\n",
    "# barre des tâches ou bien appuyez sur \"ctrl+entrer\".\n",
    "\n",
    "# Charger le sinogramme. Pour comprendre comment ce sinogramme est obtenu, vous pouvez regarder le fichier \"labCTfunctions.py\".\n",
    "sino_ES_S = labCT.load_sinogram()\n",
    "\n",
    "# Afficher le sinogramme\n",
    "plt.figure(figsize=[5, 5]) # plt.figure permet de gérer certains paramètres d'affichage\n",
    "plt.imshow(sino_ES_S) # plt.imshow permet d'afficher une image\n",
    "plt.xlabel('Projection angle [$^{\\circ}$]') # plt.xlabel permet d'ajouter un titre sur l'axe des abcisses\n",
    "plt.ylabel('Projection position [pixels]'); # plt.ylabel permet d'ajouter un titre sur l'axe des ordonnées"
   ]
  },
  {
   "cell_type": "markdown",
   "metadata": {},
   "source": [
    "<div class=\"alert alert-warning\">\n",
    "    <b>1. Effectuer la rétroprojection du sinogramme à l’aide de la fonction retroprojection. (1pt)</b>\n",
    "</div>"
   ]
  },
  {
   "cell_type": "code",
   "execution_count": null,
   "metadata": {},
   "outputs": [],
   "source": [
    "angles = range(180)\n",
    "\n",
    "# Calculez et affichez la rétroprojection (4 lignes maximum).\n",
    "# >>>>> Commencez votre code ici <<<<<"
   ]
  },
  {
   "cell_type": "markdown",
   "metadata": {},
   "source": [
    "<div class=\"alert alert-warning\">\n",
    "    <b>2. Pourquoi le sinogramme a-t-il été acquis sur 180$^{\\circ}$ plutôt que sur 360$^{\\circ}$ ? (1pt)</b>\n",
    "</div>"
   ]
  },
  {
   "cell_type": "markdown",
   "metadata": {},
   "source": [
    "<div class=\"alert alert-block alert-success\"> <b> Double-cliquez pour entrez votre réponse <b> </div>"
   ]
  },
  {
   "cell_type": "markdown",
   "metadata": {},
   "source": [
    "## <font color='teal'> Rétroprojection filtrée – 5pts </font>\n",
    "\n",
    "<div class=\"alert alert-warning\">\n",
    "<b> 1. Par quelle opération mathématique peut-on appliquer le filtre rampe |ω| dans le domaine fréquentiel ? (1pt) </b>\n",
    "<div>\n",
    " "
   ]
  },
  {
   "cell_type": "markdown",
   "metadata": {},
   "source": [
    "<div class=\"alert alert-block alert-success\"> <b> Double-cliquez pour entrez votre réponse <b> </div>"
   ]
  },
  {
   "cell_type": "markdown",
   "metadata": {},
   "source": [
    "<div class=\"alert alert-warning\">\n",
    "<b> 2. Transcrire l’expression dans le domaine image (spatial). (1pt)</b>\n",
    "<div>\n",
    "   "
   ]
  },
  {
   "cell_type": "markdown",
   "metadata": {},
   "source": [
    "<div class=\"alert alert-block alert-success\"> <b> Double-cliquez pour entrez votre réponse <b> </div>"
   ]
  },
  {
   "cell_type": "markdown",
   "metadata": {},
   "source": [
    "<div class=\"alert alert-warning\">\n",
    "<b>\n",
    "3. Appliquez les filtres suivants à votre sinogramme et comparez les reconstructions obtenues:<br>\n",
    "&nbsp;- aucun filtre<br>\n",
    "&nbsp;- un filtre |ω|<br>\n",
    "&nbsp;- un filtre |ω| avec fenêtrage de hanning<br>\n",
    "\n",
    "Ci dessous, le filtre |ω| vous est présenté dans chacun des espaces d'intêret. Sélectionnez le.s filtres appropriés pour vos calculs. Justifiez vos choix. (2pt)\n",
    "</div>"
   ]
  },
  {
   "cell_type": "code",
   "execution_count": null,
   "metadata": {},
   "outputs": [],
   "source": [
    "# Construction et affichage des filtres que vous pourrez utiliser:\n",
    "\n",
    "nb_pixels = len(sino_ES_S)\n",
    "# Rampe dans l'espace de Fourier shifté (en 1D, basses fréquences au centre):\n",
    "ramp_EF_S = [abs(nb_pixels / 2 - i) for i in range(nb_pixels)]\n",
    "# Rampe dans l'espace de Fourier non shifté (en 1D, basses fréquences sur les bords):\n",
    "ramp_EF_NS = ifftshift(ramp_EF_S)\n",
    "# Rampe dans l'espace spatial non shifté:\n",
    "ramp_ES_NS = np.real(ifft(ramp_EF_NS))\n",
    "# Rampe dans l'espace spatial shifté:\n",
    "ramp_ES_S = fftshift(ramp_ES_NS)\n",
    "\n",
    "plt.figure(figsize=[20, 10])\n",
    "plt.subplot(2, 2, 1)\n",
    "plt.plot(ramp_EF_S)\n",
    "plt.title('Rampe dans l\\'espace de Fourier shifté')\n",
    "plt.subplot(2, 2, 2)\n",
    "plt.plot(ramp_EF_NS)\n",
    "plt.title('Rampe dans l\\'espace de Fourier non shifté')\n",
    "plt.subplot(2, 2, 3)\n",
    "plt.plot(ramp_ES_NS)\n",
    "plt.title('Rampe dans l\\'espace spatial non shifté')\n",
    "plt.subplot(2, 2, 4)\n",
    "plt.plot(ramp_ES_S)\n",
    "plt.title('Rampe dans l\\'espace spatial shifté');"
   ]
  },
  {
   "cell_type": "code",
   "execution_count": null,
   "metadata": {},
   "outputs": [],
   "source": [
    "# ==== Filtrage dans l'Espace Fourier shifté (4 lignes max) ====>\n",
    "\n",
    "# >>>>> Commencez votre code ici <<<<<\n",
    "\n",
    "retro_filtre_fourier = \n",
    "\n",
    "# ==== Filtrage dans l'Espace Spatial shifté (5 lignes max) ====>\n",
    "\n",
    "# >>>>> Commencez votre code ici <<<<<\n",
    "\n",
    "retro_filtre_spatial=\n",
    "\n",
    "# ==== Filtrage dans l'Espace Spatial shifté + filtre de hanning ====>\n",
    "\n",
    "# >>>>> Commencez votre code ici <<<<<\n",
    "\n",
    "retro_filtre_spatial_hann = \n",
    "\n",
    "# Affichage des images reconstruites:\n",
    "plt.figure(figsize=[15, 15])\n",
    "plt.subplot(221); plt.imshow(labCT.retroprojection(sino_ES_S,angles)); plt.title('Reconstruit sans filtre')\n",
    "plt.subplot(222); plt.imshow(retro_filtre_fourier); plt.title('Filtre appliqué dans l\\'espace de Fourier')\n",
    "plt.subplot(223); plt.imshow(retro_filtre_spatial); plt.title('Filtre appliqué dans l\\'espace spatial')\n",
    "plt.subplot(224); plt.imshow(retro_filtre_spatial_hann); plt.title('Filtre appliqué dans l\\'espace spatial + hanning');"
   ]
  },
  {
   "cell_type": "markdown",
   "metadata": {},
   "source": [
    "<div class=\"alert alert-warning\">\n",
    "<b>\n",
    "4. Expliquer l'intérêt du filtre |ω| . Expliquer l'intérêt du fenêtrage de hanning. L'espace d'application du filtre (spatial ou fréquentiel) a-t-il un effet sur les images filtrées? (1pt)</b>\n",
    "</div>"
   ]
  },
  {
   "cell_type": "markdown",
   "metadata": {},
   "source": [
    "<div class=\"alert alert-block alert-success\"> <b> Double-cliquez pour entrez votre réponse <b> </div>"
   ]
  },
  {
   "cell_type": "markdown",
   "metadata": {},
   "source": [
    "## <font color='teal'> Performance de la rétroprojection filtrée – 2pts\t </font>\n",
    "\n",
    "<div class=\"alert alert-warning\">\n",
    "<b>\n",
    "1. Comparer les rétroprojections ﬁltrées effectuées pour 4, 16, 90 et 180 rétroprojections. (1.5pt)<br>\n",
    "</b>\n",
    "</div>"
   ]
  },
  {
   "cell_type": "code",
   "execution_count": null,
   "metadata": {},
   "outputs": [],
   "source": [
    "# Performance de la rétroprojection filtrée\n",
    "n_angles=[4, 16, 90, 180];\n",
    "\n",
    "plt.figure(figsize = [15, 15])\n",
    "for n in range(4):\n",
    "    # >>>>> Commencez votre code ici <<<<<\n",
    "    "
   ]
  },
  {
   "cell_type": "markdown",
   "metadata": {},
   "source": [
    "<div class=\"alert alert-warning\">\n",
    "<b>\n",
    "2. Qu’arrive-t-il si les rétroprojections sont effectuées pour des angles qui ne sont pas régulièrement espacés ? Illustrez ce phénomène. (0.5pt)\n",
    "</b>\n",
    "</div>"
   ]
  },
  {
   "cell_type": "code",
   "execution_count": null,
   "metadata": {},
   "outputs": [],
   "source": [
    "# >>>>> Commencez votre code ici <<<<<"
   ]
  },
  {
   "cell_type": "markdown",
   "metadata": {},
   "source": [
    "<div class=\"alert alert-block alert-success\"> <b> Double-cliquez pour entrez votre réponse <b> </div>"
   ]
  },
  {
   "cell_type": "markdown",
   "metadata": {},
   "source": [
    "## <font color='teal'>Théorème de la tranche centrale – 3pts\t </font>\n",
    "\n",
    "<div class=\"alert alert-warning\">\n",
    "<b>Montrez que la transformée de Fourier de la projection de l’image pour un angle θ est l’équivalent de la tranche d’angle θ de la transformée de Fourier 2D de $f(x, y)$.\n",
    "<br><br>\n",
    "Pour cela, écrivez un script permettant d’afficher la transformée de Fourier de la projection de l’image pour un angle θ ainsi que la tranche centrale d’angle θ de la transformée de Fourier 2D de $f(x, y)$. Faire la comparaison pour 4 angles différents. Utiliser une échelle logarithmique pour mieux visualiser vos résultats. Expliquez. (3pt)</b><br>\n",
    "\n",
    "Astuce: la fonction [<b>scipy.ndimage.interpolation.rotate</b>](https://docs.scipy.org/doc/scipy-0.14.0/reference/generated/scipy.ndimage.interpolation.rotate.html) permet de rotater une image d'un certain angle.\n",
    "</div>"
   ]
  },
  {
   "cell_type": "code",
   "execution_count": null,
   "metadata": {},
   "outputs": [],
   "source": [
    "# >>>>> Commencez votre code ici <<<<<"
   ]
  },
  {
   "cell_type": "markdown",
   "metadata": {},
   "source": [
    "<div class=\"alert alert-block alert-success\"> <b> Double-cliquez pour entrez votre réponse <b> </div>"
   ]
  },
  {
   "cell_type": "markdown",
   "metadata": {},
   "source": [
    "## <font color='teal'>Analyse du bruit – 3pts</font>\n",
    "\n",
    "<div class=\"alert alert-warning\">\n",
    "<b>\n",
    "1. Quel est le type de bruit observé en imagerie par rayon X ? Quelle est l’origine de ce bruit ? (0.5pt)<br>\n",
    "</b>\n",
    "</div>"
   ]
  },
  {
   "cell_type": "markdown",
   "metadata": {},
   "source": [
    "<div class=\"alert alert-block alert-success\"> <b> Double-cliquez pour entrez votre réponse <b> </div>"
   ]
  },
  {
   "cell_type": "markdown",
   "metadata": {},
   "source": [
    "<div class=\"alert alert-warning\">\n",
    "<b>\n",
    "2. Simuler 1000 fois la détection d’un capteur qui a reçu 5 photons (utiliser une fonction de distribution aléatoire pour générer un vecteur de 1000 éléments). Tracer l’histogramme des valeurs mesurées par ce capteur (fonction \"plt.hist\"). Refaites l’expérience avec 10, 50, et 1000 photons reçus.  (0.5pt)</b><br>\n",
    "    \n",
    "La fonction [<b>numpy.random.poisson</b>](https://numpy.org/doc/stable/reference/random/generated/numpy.random.poisson.html) vous sera utile.\n",
    "\n",
    "</div>"
   ]
  },
  {
   "cell_type": "code",
   "execution_count": null,
   "metadata": {},
   "outputs": [],
   "source": [
    "nb_photons = [5, 10, 50, 1000]\n",
    "\n",
    "# >>>>> Commencez votre code ici <<<<<"
   ]
  },
  {
   "cell_type": "markdown",
   "metadata": {},
   "source": [
    "<div class=\"alert alert-warning\">\n",
    "<b>\n",
    "3. Ajouter du bruit à l’image filtrée/fenêtrée de la section « Rétroprojection filtrée » pour simuler le bruit d’acquisition lors d’un CT scan (attention à placer le bruit au bon endroit pour modéliser le phénomène physique en cause). Montrez la rétroprojection obtenue. (1pt)<br>\n",
    "</b>\n",
    "</div>"
   ]
  },
  {
   "cell_type": "code",
   "execution_count": null,
   "metadata": {},
   "outputs": [],
   "source": [
    "lambda_nominal = 100 # Quantité de radiations totale\n",
    "\n",
    "# >>>>> Commencez votre code ici <<<<<"
   ]
  },
  {
   "cell_type": "markdown",
   "metadata": {},
   "source": [
    "<div class=\"alert alert-warning\">\n",
    "<b>\n",
    "4. Comment peut-on modéliser une quantité de radiations 2 fois plus grande ?  (0.5pt)<br>\n",
    "</b>\n",
    "</div>"
   ]
  },
  {
   "cell_type": "markdown",
   "metadata": {},
   "source": [
    "<div class=\"alert alert-block alert-success\"> <b> Double-cliquez pour entrez votre réponse <b> </div>"
   ]
  },
  {
   "cell_type": "markdown",
   "metadata": {},
   "source": [
    "<div class=\"alert alert-warning\">\n",
    "<b>\n",
    "5. Pour une même quantité de radiations, comparer des scans acquis:\n",
    "    <br><br>\n",
    "     - avec un grand nombre d’angles et une petite quantité de radiations pour chaque angle.\n",
    "    <br>\n",
    "     - avec un petit nombre d’angles et une grande quantité de radiations pour chaque angle.\n",
    "    <br><br>\n",
    "Montrez les résultats obtenus pour 4, 16, 90 et 180 angles. Quel choix vous semble être le meilleur d’un point de vue clinique?  (0.5pt)\n",
    "</b>\n",
    "</div>"
   ]
  },
  {
   "cell_type": "code",
   "execution_count": null,
   "metadata": {},
   "outputs": [],
   "source": [
    "# >>>>> Commencez votre code ici <<<<<\n",
    "\n",
    "plt.figure(figsize=[15,15])\n",
    "plt.subplot(421); plt.imshow(sino4_bruite,aspect='auto'); plt.title(f'Sinogramme avec 4 angles, lambda= {str(lambda4)}')\n",
    "plt.subplot(422); plt.imshow(retro4_bruite,); plt.title(f'Rétroprojection avec 4 angles, lambda= {str(lambda4)}')\n",
    "plt.subplot(423); plt.imshow(sino16_bruite,aspect='auto'); plt.title(f'Sinogramme avec 16 angles, lambda= {str(lambda16)}')\n",
    "plt.subplot(424); plt.imshow(retro16_bruite); plt.title(f'Rétroprojection avec 16 angles, lambda= {str(lambda16)}')\n",
    "plt.subplot(425); plt.imshow(sino90_bruite,aspect='auto'); plt.title(f'Sinogramme avec 90 angles, lambda= {str(lambda90)}')\n",
    "plt.subplot(426); plt.imshow(retro90_bruite); plt.title(f'Rétroprojection avec 90 angles, lambda=, {str(lambda90)}')\n",
    "plt.subplot(427); plt.imshow(sino180_bruite,aspect='auto'); plt.title(f'Sinogramme avec 180 angles, lambda= {str(lambda180)}')\n",
    "plt.subplot(428); plt.imshow(retro180_bruite); plt.title(f'Rétroprojection avec 180 angles, lambda= {str(lambda180)}');"
   ]
  },
  {
   "cell_type": "markdown",
   "metadata": {},
   "source": [
    "<div class=\"alert alert-block alert-success\"> <b> Double-cliquez pour entrez votre réponse <b> </div>"
   ]
  },
  {
   "cell_type": "markdown",
   "metadata": {},
   "source": [
    "## <font color='teal'>Conclusion</font>"
   ]
  },
  {
   "cell_type": "markdown",
   "metadata": {},
   "source": [
    "<div class=\"alert alert-block alert-success\"> <b> Double-cliquez pour entrez votre réponse <b> </div>"
   ]
  }
 ],
 "metadata": {
  "kernelspec": {
   "display_name": "Python 3",
   "language": "python",
   "name": "python3"
  },
  "language_info": {
   "codemirror_mode": {
    "name": "ipython",
    "version": 3
   },
   "file_extension": ".py",
   "mimetype": "text/x-python",
   "name": "python",
   "nbconvert_exporter": "python",
   "pygments_lexer": "ipython3",
   "version": "3.8.5"
  }
 },
 "nbformat": 4,
 "nbformat_minor": 4
}
