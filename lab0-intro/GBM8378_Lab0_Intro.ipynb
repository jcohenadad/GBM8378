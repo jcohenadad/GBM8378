{
 "cells": [
  {
   "cell_type": "markdown",
   "metadata": {},
   "source": [
    "<div align=\"center\"> \n",
    "    \n",
    "# GBM8378 - Principes d'imagerie biomédicale\n",
    "## Laboratoire 0 - Introduction à Python et aux Jupyter Notebooks\n",
    "    \n",
    "</div> "
   ]
  },
  {
   "cell_type": "markdown",
   "metadata": {},
   "source": [
    "<div align=\"center\"> \n",
    "    \n",
    "#  Présentation générale des laboratoires \n",
    "    \n",
    "</div>\n",
    "\n",
    "<div class=\"alert alert-block alert-info\">\n",
    "Les leçons du cours GBM8378 sont accompagnées de travaux pratiques. Ces séances permettront\n",
    "d'illustrer les notions présentées en cours en offrant l'occasion d'expérimenter diverses techniques\n",
    "de traitement et d'analyse d'images appliquées au domaine biomédical.\n",
    "Ces travaux pratiques sont réalisés en Python dans l'environnement Jupyter Notebook.<br> \n",
    "    \n",
    "Les différents fichiers dont vous aurez besoin pour compléter les laboratoires sont disponible sur <a href= \"https://github.com/jcohenadad/GBM8378\"> GitHub</a>.\n",
    "</div>\n",
    "\n",
    "###  Lab 0 - Séance d'introduction\n",
    "<div class=\"alert alert-block alert-info\">\n",
    "Ce laboratoire est une introduction aux outils qui seront utilisés lors des prochaine séances. Le but est donc de vous familiariser avec l'utilisation des Jupyter Notebook et le langage de programmation Python, en effectuant des opérations basiques de traitement de signaux.<br>\n",
    "    \n",
    "<b>Ce laboratoire est optionnel et aucun travail n'est à remettre.</b> Cependant, si certaines parties ne sont pas claires et si vous avez des questions sur n'importe quel sujet (en lien avec le lab de préférence), n'hésitez pas à nous contacter et nous tenterons de vous aider au mieux.\n",
    "</div>\n",
    "\n",
    "### Lab 1 - CT scan\n",
    "<div class=\"alert alert-block alert-info\">\n",
    "Le laboratoire 1 sera dédié à la tomodensitométrie (a.k.a. Computed Tomography). Nous nous intéresserons aux concepts physiques et mathématiques qui permettent de visualiser l'intérieur du corps d'un patient en 3D à partir de projections radiographiques.\n",
    "</div>\n",
    "\n",
    "### Lab 2 - Ultrasons\n",
    "<div class=\"alert alert-block alert-info\">\n",
    "Le second laboratoire présentera les principes de l'imagerie ultrasonore. Nous nous intéresserons à l'acquisition du signal ultrasonore et à sa signification physique qui permet de reconstruire une image.\n",
    "</div>\n",
    "\n",
    "### Lab 3 - Imagerie par Résonance Magnétique\n",
    "<div class=\"alert alert-block alert-info\">\n",
    "Le dernier laboratoire sera axé sur la meilleure technique d'imagerie biomédicale (en toute objectivité). Nous nous intéresserons aux concepts mathématiques qui permettent d'obtenir une image à partir du phénomène de Résonance Magnétique et explorerons différentes applications fréquemment utilisées dans le milieu clinique (IRM structurelle, fonctionnelle et de diffusion).\n",
    "</div>"
   ]
  },
  {
   "cell_type": "markdown",
   "metadata": {},
   "source": [
    "#  Qu'est-ce qu'un Jupyter Notebook ?\n",
    "\n",
    "<div class=\"alert alert-block alert-info\">\n",
    "Les Jupyter Notebooks sont des fichiers portant l'extension \".ipynb\". Le fichier que vous êtes en train en est un. Le principal intérêts de ces notebooks et de pouvoir entremêler des cellules de texte (comme celle-ci) et des cellules de code dans un même fichier.<br>\n",
    "    \n",
    "<b>Dans le cadre de nos laboratoires, nous vous conseillons d'utiliser <a href=\"https://mybinder.org/\">MyBinder</a> afin de ne pas avoir à vous soucier du fonctionnement des Notebooks (voir <a href=\"https://github.com/jcohenadad/GBM8378\"> notre page GitHub</a> pour lancer MyBinder).</b><br>\n",
    "    \n",
    "Vous n'aurez à priori pas besoin d'ajouter de nouvelles cellules lors des laboratoires car celles-ci seront toutes pré-remplies. Vous devrez simplement écrire votre code dans les cellules de code disponibles et remplacer le texte dans les cellules de texte prévues pour vos réponses. \n",
    "</div>"
   ]
  },
  {
   "cell_type": "markdown",
   "metadata": {},
   "source": [
    "### Cellules de code\n",
    "<div class=\"alert alert-block alert-info\">\n",
    "<b>Les cellules de code sont destinée à accueillir vos réponse liées à de la programmation. Le code peut être modifié et exécuté directement dans la cellule. Les variables et fonctions que vous créez à un endroit sont mémorisées dans le notebook et peuvent être utilisés ultérieurement dans d'autres cellules.</b>\n",
    "</div>\n",
    "<br>\n",
    "<div>\n",
    "    <b>Exemple:</b> Cliquez sur la cellule de code ci-dessous et exécutez la en appuyant sur <b>\"ctrl+entrer\"</b> ou sur le bouton <b>\"Exécuter\"</b> de la barre des tâches. \n",
    "</div>"
   ]
  },
  {
   "cell_type": "code",
   "execution_count": null,
   "metadata": {},
   "outputs": [],
   "source": [
    "# Ceci est une cellule de code\n",
    "print('Hello World!') # La fonction Python \"print()\" permet de retourner une chaîne de caractères en dessous de la cellule"
   ]
  },
  {
   "cell_type": "markdown",
   "metadata": {},
   "source": [
    "### Cellules de texte\n",
    "<div class=\"alert alert-block alert-info\">\n",
    "<b>Les cellules de texte prennent en compte le markdown et le html (ce sont deux langages de mise en forme de texte). Afin d'entrer vos réponses aux différentes questions des laboratoires, il vous suffira simplement de double-cliquer sur la cellule et de remplacer le texte \"Double-cliquez pour entrez votre réponse\" par votre réponse. </b></div>\n",
    "    <br>\n",
    "    \n",
    "<div>\n",
    "    <b>Exemple:</b> Double-cliquez sur la cellule de texte ci-dessous, remplacez le texte puis exécutez la cellule. \n",
    "</div>"
   ]
  },
  {
   "cell_type": "markdown",
   "metadata": {},
   "source": [
    "<div class=\"alert alert-block alert-success\"> <b> Double-cliquez pour entrez votre réponse <b> </div>"
   ]
  },
  {
   "cell_type": "markdown",
   "metadata": {},
   "source": [
    "###  Autres ressources\n",
    "\n",
    "<div class=\"alert alert-block alert-info\">\n",
    "Pour écrire les réponse vous pouvez regarder:<ul> <a href=\"https://support.squarespace.com/hc/fr-fr/articles/206543587-Aide-m%C3%A9moire-Markdown\">Markdown basic</a> <br>\n",
    "<a href=\"https://github.com/cben/mathdown/wiki/math-in-markdown \">Math in markdown</a>\n",
    "<br>\n",
    "    Vous pouvez introduire des équations en latex dont l'utilisation est détaillée <a href=\"https://en.wikibooks.org/wiki/LaTeX/Mathematics \">ici</a>.\n",
    "    <br></ul>\n",
    "</div>"
   ]
  },
  {
   "cell_type": "markdown",
   "metadata": {},
   "source": [
    "#  Qu'est-ce que Python ?\n",
    "\n",
    "<div class=\"alert alert-block alert-info\">\n",
    "Python et l'un des langages de programmation les plus utilisés à travers le monde (rien à voir avec un serpent, vraiment). Il s'agit d'un langage open-source et orienté-objet très facile à lire et écrire dont les bases sont très rapidement assimilables. C'est pour cela que nous avons choisi de l'utiliser pour nos laboratoires. Un autre intérêt majeur de Python est que n'importe qui est libre de développer ses propres librairies de code et de les partager avec le monde, en faisant un langage de plus en plus apprécié et répandu, notamment dans le domaine de l'imagerie médicale. <br> \n",
    "    \n",
    "Au cours de cette séance, nous allons nous familiariser progressivement avec les outils offert par Python.\n",
    "    \n",
    "<b> Utiliser Python dans un Jupyter Notebook requièrent certaines étapes d'initialisation. Encore une fois, si vous utilisez MyBinder, ces étapes pourront être sautées et vous n'aurez plus qu'à coder !</b>\n",
    "</div>\n",
    "\n",
    "<div class=\"alert alert-block alert-info\">\n",
    "Si vous souhaitez apprendre les bases de Python en suivant des tutoriels vidéos, des tutoriels faits par Guillaume Sheehy, un étudiant de Polytechnique, sont disponibles sur sa <a href=\"https://www.youtube.com/watch?v=6IjvPsbofRc&list=PLnzBBbvhjz4X3htDbNF0aJEDVtny48GI0\"> chaîne YouTube </a>.\n",
    "</div>"
   ]
  },
  {
   "cell_type": "markdown",
   "metadata": {},
   "source": [
    "### Importer des modules\n",
    "<div class=\"alert alert-block alert-info\">\n",
    "Comme nous l'avons dit, n'importe qui peut créer des librairies Python. Du coup, il en existe un nombre incalculable et, heureusement, toutes ne sont pas installées par défaut lorsque l'on installe Python. Il est donc nécessaire de télécharger les modules dont on a besoin, puis de les importer dans notre notebook afin de pouvoir utiliser les fonctions qu'elles offrent. Dans le cadre de nos labs, les modules disponibles sont listés <a href=\"https://github.com/jcohenadad/GBM8378/blob/master/requirements.txt\">ici</a>.\n",
    "    \n",
    "Afin d'importer un module, il faut utiliser une ligne de code spécifique.</div> \n",
    "\n",
    "<b>Exemple:</b> Dans la cellule ci-dessous, nous montrons comment importer le module <a href=\"https://numpy.org/doc/stable/\">NumPy</a> qui permet d'effectuer de nombreuses opérations mathématiques. Afin d'utiliser les fonctions contenue par NumPy, il faut placer \"numpy.\" avant le nom de la fonction. Cela peut vite devenir fastidieux et illisible dans le code donc on décide d'abréger \"numpy\" par \"np\".\n"
   ]
  },
  {
   "cell_type": "code",
   "execution_count": null,
   "metadata": {
    "scrolled": false
   },
   "outputs": [],
   "source": [
    "import numpy as np\n",
    "print(\"Le cosinus de pi vaut:\", np.cos(np.pi)) "
   ]
  },
  {
   "cell_type": "markdown",
   "metadata": {},
   "source": [
    "<div class=\"alert alert-block alert-info\">\n",
    "Il est également possible d'importer seuleument certaines fonctions d'un module et de les utiliser directement sans utiliser de préfixe.</div> "
   ]
  },
  {
   "cell_type": "code",
   "execution_count": null,
   "metadata": {},
   "outputs": [],
   "source": [
    "from numpy import cos, pi\n",
    "print(\"Le cosinus de pi vaut:\", cos(pi)) "
   ]
  },
  {
   "cell_type": "markdown",
   "metadata": {},
   "source": [
    "<div class=\"alert alert-block alert-info\">\n",
    "L'importation des modules se fait généralement d'un seul bloc au début du code. Ici nous importerons les modules au fur et à mesure que nous en aurons besoin afin de mieux comprendre leur utilité.</div> "
   ]
  },
  {
   "cell_type": "markdown",
   "metadata": {},
   "source": [
    "### Généralités\n",
    "<div class=\"alert alert-block alert-info\">\n",
    "En python, l'indexation des éléments d'une <b><i>liste</i></b> commence à 0. Le premier élément d'un vecteur X peut donc être obtenu en tapant X[0]. Notez l'utilisation de \"[]\" pour accéder aux une valeur indexée. \n",
    "    \n",
    "Pour accéder au dernier élement, on peut utiliser l'index [-1].\n",
    "\n",
    "Il existe de nombreuse possibilités pour récupérer des valeurs indexées en Python, cela s'appelle le <b><i>slicing</i></b>. Vous pourrez trouver plus d'informations à ce propos <a href=\"https://railsware.com/blog/python-for-machine-learning-indexing-and-slicing-for-lists-tuples-strings-and-other-sequential-types/\">ici</a>.</div> \n",
    "\n",
    "<b>Exemple:</b> \n"
   ]
  },
  {
   "cell_type": "code",
   "execution_count": null,
   "metadata": {},
   "outputs": [],
   "source": [
    "X = [1, 2, 3, 4, 5, 6, 7, 8, 9]\n",
    "print(f'Le premier élement de X est: {X[0]}')\n",
    "print(f'Le dernier élement de X est: {X[-1]}')\n",
    "print(f'La liste des élements de X est: {X[:]}')\n",
    "print(f'A partir de l\\'index 3 et jusqu\\'à l\\'index 7, prendre un élement sur 2 : {X[3:7:2]}')"
   ]
  },
  {
   "cell_type": "markdown",
   "metadata": {},
   "source": [
    "# Exercice 1: Vecteurs et matrices\n",
    "\n",
    "**Question 1.1.** Créer un vecteur t avec des point allant de 0 à $2\\pi$ avec un pas de 0.1, calculer et afficher sin(t).\n",
    "\n",
    "Astuce: utiliser les fonctions <a href=\"https://numpy.org/doc/stable/reference/generated/numpy.arange.html#numpy.arange\" >np.arange()</a> et <a href=\"https://matplotlib.org/3.3.3/api/_as_gen/matplotlib.pyplot.plot.html\" >plt.plot()<a>"
   ]
  },
  {
   "cell_type": "code",
   "execution_count": null,
   "metadata": {},
   "outputs": [],
   "source": [
    "import matplotlib.pyplot as plt # Permet de tracer des graphiques et d'afficher des images\n",
    "\n",
    "# Codez votre solution ici"
   ]
  },
  {
   "cell_type": "markdown",
   "metadata": {},
   "source": [
    "**Question 1.2.** Créer un vecteur x de 1001 points allant de 0 à 10. Calculer et afficher la taille de x.\n",
    "\n",
    "Astuce: utiliser les fonctions <a href=\"https://numpy.org/doc/stable/reference/generated/numpy.linspace.html\" >np.linspace()</a> et <a href=\"https://www.programiz.com/python-programming/methods/built-in/len\"> len() </a>"
   ]
  },
  {
   "cell_type": "code",
   "execution_count": null,
   "metadata": {},
   "outputs": [],
   "source": [
    "# Codez votre solution ici"
   ]
  },
  {
   "cell_type": "markdown",
   "metadata": {},
   "source": [
    "**Question 1.3.** Définir les signaux $s_0=\\sin(\\pi x)$, $s_1=\\dfrac{\\sin(3 \\pi  x)}{3}$ et $s_2 = \\dfrac{\\sin(5 \\pi  x)}{5}$. Tracez les trois signaux ainsi que leur somme sur un même graphique."
   ]
  },
  {
   "cell_type": "code",
   "execution_count": null,
   "metadata": {
    "scrolled": false
   },
   "outputs": [],
   "source": [
    "# Codez votre solution ici\n",
    "\n",
    "# Affichage des signaux\n",
    "plt.rcParams[\"figure.figsize\"] = (15, 6.5) # Définit la taille des figures à afficher\n",
    "fig, ax = plt.subplots()\n",
    "ax.plot(x, s0, '--')\n",
    "ax.plot(x, s1, '--')\n",
    "ax.plot(x, s2, '--')\n",
    "ax.plot(x, s0+s1+s2)\n",
    "ax.set_title('Signaux')\n",
    "ax.legend(['s0', 's1', 's2', 'Somme'])\n",
    "ax.set_xlabel('x')\n",
    "ax.set_ylabel('Amplitude')\n",
    "plt.show()"
   ]
  },
  {
   "cell_type": "markdown",
   "metadata": {},
   "source": [
    "**Question 1.4.** Calculer et afficher le signal: $$s(x)=\\sum_{i=0}^{50} \\dfrac{\\sin\\left( (2 i+1) \\pi x\\right)}{2i+1}$$\n",
    "\n",
    "Astuce: Vous pouvez utiliser une <a heref=\"https://courspython.com/boucles.html\"> boucle for<a>. "
   ]
  },
  {
   "cell_type": "code",
   "execution_count": null,
   "metadata": {},
   "outputs": [],
   "source": [
    "# Codez votre solution ici"
   ]
  },
  {
   "cell_type": "markdown",
   "metadata": {},
   "source": [
    "**Question 1.5.** Calculer et afficher le même signal mais avec $i$ allant de $0$ à $500$."
   ]
  },
  {
   "cell_type": "code",
   "execution_count": null,
   "metadata": {},
   "outputs": [],
   "source": [
    "# Codez votre solution ici"
   ]
  },
  {
   "cell_type": "markdown",
   "metadata": {},
   "source": [
    "**Question 1.6.** Créer deux matrices A et B de la forme suivante:\n",
    "\n",
    "$$\n",
    "A=\n",
    "\\left(\\begin{array}{cc} \n",
    "10 & 0 & 5\\\\ \n",
    "0 & 5 & 1\n",
    "\\end{array}\\right);  \n",
    "B=\n",
    "\\left(\\begin{array}{cc} \n",
    "4 & 1\\\\ \n",
    "0 & 2\\\\\n",
    "13 & 10\n",
    "\\end{array}\\right)\n",
    "$$ \n",
    "\n",
    "Puis calculer et afficher le produit matriciel de A par B. \n",
    "\n",
    "Astuce: <a href=\"https://numpy.org/doc/stable/reference/generated/numpy.dot.html\"> np.dot()</a> permet de multiplier des matrices."
   ]
  },
  {
   "cell_type": "code",
   "execution_count": null,
   "metadata": {
    "scrolled": true
   },
   "outputs": [],
   "source": [
    "# Codez votre solution ici"
   ]
  },
  {
   "cell_type": "markdown",
   "metadata": {},
   "source": [
    "**Question 1.7.** Calculer la transposée de A et la repliquer 3 fois dans chaque dimension.\n",
    "\n",
    "Astuce: Utiliser les fonctions <a href=\"https://numpy.org/doc/stable/reference/generated/numpy.transpose.html\"> np.transpose()</a> et <a href=\"https://numpy.org/doc/stable/reference/generated/numpy.matlib.repmat.html\"> numpy.matlib.repmat()</a>"
   ]
  },
  {
   "cell_type": "code",
   "execution_count": null,
   "metadata": {},
   "outputs": [],
   "source": [
    "from numpy.matlib import repmat\n",
    "\n",
    "# Codez votre solution ici"
   ]
  },
  {
   "cell_type": "markdown",
   "metadata": {},
   "source": [
    "# Exercice 2: Signal bruité\n",
    "\n",
    "**Question 2.1.** Créer un vecteur temps ayant un pas temporel de une milliseconde (c’est à dire:\n",
    "échantillonné à 1000 Hz (Fs)) et contenant 1024 points.\n"
   ]
  },
  {
   "cell_type": "code",
   "execution_count": null,
   "metadata": {
    "scrolled": false
   },
   "outputs": [],
   "source": [
    "# Codez votre solution ici"
   ]
  },
  {
   "cell_type": "markdown",
   "metadata": {},
   "source": [
    "**Question 2.2.** Créer un signal de type sinus (fréquence=50 Hz ; amplitude=0.7) en fonction du vecteur\n",
    "temporel de 2.1."
   ]
  },
  {
   "cell_type": "code",
   "execution_count": null,
   "metadata": {},
   "outputs": [],
   "source": [
    "# Codez votre solution ici"
   ]
  },
  {
   "cell_type": "markdown",
   "metadata": {},
   "source": [
    "**Question 2.3.** Créer un signal de type cosinus (fréquence=120 Hz ;amplitude = 1) en fonction du vecteur\n",
    "temporel de 2.1."
   ]
  },
  {
   "cell_type": "code",
   "execution_count": null,
   "metadata": {},
   "outputs": [],
   "source": [
    "# Codez votre solution ici"
   ]
  },
  {
   "cell_type": "markdown",
   "metadata": {},
   "source": [
    "**Question 2.4.**  Créer un signal de bruit gaussien (moyenne=2 ; écart type = 0.2) de la même dimension que le\n",
    "vecteur temporel de 2.1.\n",
    "\n",
    "Astuce: Utilisez la fonction <a href=\"https://numpy.org/doc/stable/reference/random/generated/numpy.random.normal.html\"> numpy.random.normal()</a>."
   ]
  },
  {
   "cell_type": "code",
   "execution_count": null,
   "metadata": {},
   "outputs": [],
   "source": [
    "# Codez votre solution ici"
   ]
  },
  {
   "cell_type": "markdown",
   "metadata": {},
   "source": [
    "**Question 2.5.** Additionner les signaux des 2.2, 2.3, 2.4.."
   ]
  },
  {
   "cell_type": "code",
   "execution_count": null,
   "metadata": {},
   "outputs": [],
   "source": [
    "# Codez votre solution ici"
   ]
  },
  {
   "cell_type": "markdown",
   "metadata": {},
   "source": [
    "**Question 2.6.** Afficher les 4 signaux des questions précédentes en fonction du signal temporel de 2.1.\n",
    "sur le même graphique\n",
    "- Afficher chaque courbe d’une couleur différente\n",
    "- Ajouter : les axes, un titre et une légende\n",
    "- Modifier l’épaisseur d’une courbe\n",
    "- Afficher sin, cos et bruit en pointillés"
   ]
  },
  {
   "cell_type": "code",
   "execution_count": null,
   "metadata": {},
   "outputs": [],
   "source": [
    "# Codez votre solution ici"
   ]
  },
  {
   "cell_type": "markdown",
   "metadata": {},
   "source": [
    "# Exercice 3: Filtrage\n",
    "\n",
    "**Question 3.1.** Filtrer le signal bruité (2.5.) à l’aide d’un filtre de Butterworth du deuxième ordre passe bas\n",
    "à 90 Hz (Fc). Note: La “Normalized cutoff frequency” de Butterworth est ici égale à Fc/Fs/2.\n",
    "\n",
    "Astuce: Utilisez les fonctions <a href=\"https://docs.scipy.org/doc/scipy/reference/generated/scipy.signal.butter.html\"> scipy.signal.butter()</a> et <a href=\"https://docs.scipy.org/doc/scipy/reference/generated/scipy.signal.filtfilt.html\"> scipy.signal.filtfilt()</a>"
   ]
  },
  {
   "cell_type": "code",
   "execution_count": null,
   "metadata": {},
   "outputs": [],
   "source": [
    "# Codez votre solution ici"
   ]
  },
  {
   "cell_type": "markdown",
   "metadata": {},
   "source": [
    "**Question 3.2.** Filtrer le signal bruité (Q2.5.) à l’aide d’un filtre de Butterworth du deuxième ordre passe-haut\n",
    "à 20 Hz."
   ]
  },
  {
   "cell_type": "code",
   "execution_count": null,
   "metadata": {},
   "outputs": [],
   "source": [
    "# Codez votre solution ici"
   ]
  },
  {
   "cell_type": "markdown",
   "metadata": {},
   "source": [
    "**Question 3.3.** Afficher les signaux des questions 2.5, 3.1 et 3.2 sur différents graphiques.\n",
    "\n",
    "Astuce: Utilisez <a href=\"https://matplotlib.org/3.3.3/api/_as_gen/matplotlib.pyplot.subplots.html\"> plt.subplots()</a>.\n"
   ]
  },
  {
   "cell_type": "code",
   "execution_count": null,
   "metadata": {
    "scrolled": false
   },
   "outputs": [],
   "source": [
    "# Codez votre solution ici"
   ]
  },
  {
   "cell_type": "markdown",
   "metadata": {},
   "source": [
    "# Exercice 4: Transformée de Fourier\n",
    "\n",
    "**Question 4.1.** Afficher la transformée de Fourier du signal bruité de 2.5."
   ]
  },
  {
   "cell_type": "code",
   "execution_count": null,
   "metadata": {},
   "outputs": [],
   "source": [
    "from numpy.fft import *\n",
    "\n",
    "# Codez votre solution ici"
   ]
  },
  {
   "cell_type": "markdown",
   "metadata": {},
   "source": [
    "**Question 4.2.** Centrer la transformée de Fourier à l’aide de la fonction **fftshift** et afficher le spectre en\n",
    "fréquence réduite (c’est à dire avec les fréquences allant de -0.5 à 0.5).\n"
   ]
  },
  {
   "cell_type": "code",
   "execution_count": null,
   "metadata": {},
   "outputs": [],
   "source": [
    "# Codez votre solution ici"
   ]
  },
  {
   "cell_type": "markdown",
   "metadata": {},
   "source": [
    "**Question 4.3.** Afficher le spectre avec les fréquences en Hz."
   ]
  },
  {
   "cell_type": "code",
   "execution_count": null,
   "metadata": {},
   "outputs": [],
   "source": [
    "# Codez votre solution ici"
   ]
  },
  {
   "cell_type": "markdown",
   "metadata": {},
   "source": [
    "**Question 4.4.** Prendre le signal de 2.5 et le sous-échantillonner (conserver 1 point sur 9). Afficher le spectre du signal obtenu."
   ]
  },
  {
   "cell_type": "code",
   "execution_count": null,
   "metadata": {},
   "outputs": [],
   "source": [
    "# Codez votre solution ici"
   ]
  },
  {
   "cell_type": "markdown",
   "metadata": {},
   "source": [
    "# Exercice 5: Fonction 3D\n",
    "\n",
    "**Question 5.1.**  Utiliser la fonction <a href=\"https://numpy.org/doc/stable/reference/generated/numpy.meshgrid.html\"> numpy.meshgrid()</a> pour former une matrice de coordonnées, dont le contenu\n",
    "contient des valeurs entre -0.1 et 0.1 avec un pas de 0.002."
   ]
  },
  {
   "cell_type": "code",
   "execution_count": null,
   "metadata": {},
   "outputs": [],
   "source": [
    "# Codez votre solution ici"
   ]
  },
  {
   "cell_type": "markdown",
   "metadata": {},
   "source": [
    "**Question 5.2.** Former une matrice où $z(x,y) = sin(\\pi\\times(20x+10y))$, en utilisant la matrice créée à la\n",
    "question précédente."
   ]
  },
  {
   "cell_type": "code",
   "execution_count": null,
   "metadata": {},
   "outputs": [],
   "source": [
    "# Codez votre solution ici"
   ]
  },
  {
   "cell_type": "markdown",
   "metadata": {},
   "source": [
    "**Question 5.3.** Afficher z(x,y) en nuances de gris. Ajouter une barre de \"couleur\"."
   ]
  },
  {
   "cell_type": "code",
   "execution_count": null,
   "metadata": {
    "scrolled": false
   },
   "outputs": [],
   "source": [
    "# Codez votre solution ici"
   ]
  },
  {
   "cell_type": "markdown",
   "metadata": {},
   "source": [
    "**Question 5.3.** Afficher z(x,y) en 3D.\n",
    "Astuce: Cette <a href =\"https://www.tutorialspoint.com/matplotlib/matplotlib_3d_surface_plot.htm\">page</a> vous montrera comment afficher une surface en 3D."
   ]
  },
  {
   "cell_type": "code",
   "execution_count": null,
   "metadata": {},
   "outputs": [],
   "source": [
    "# Codez votre solution ici"
   ]
  }
 ],
 "metadata": {
  "kernelspec": {
   "display_name": "Python 3",
   "language": "python",
   "name": "python3"
  },
  "language_info": {
   "codemirror_mode": {
    "name": "ipython",
    "version": 3
   },
   "file_extension": ".py",
   "mimetype": "text/x-python",
   "name": "python",
   "nbconvert_exporter": "python",
   "pygments_lexer": "ipython3",
   "version": "3.7.9"
  }
 },
 "nbformat": 4,
 "nbformat_minor": 4
}
